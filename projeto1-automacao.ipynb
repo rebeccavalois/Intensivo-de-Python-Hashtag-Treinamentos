{
 "cells": [
  {
   "cell_type": "markdown",
   "id": "a7447279",
   "metadata": {},
   "source": [
    "# Automação de Sistemas e Processos com Python\n",
    "\n",
    "### Desafio:\n",
    "\n",
    "Para controle de custos, todos os dias, seu chefe pede um relatório com todas as compras de mercadorias da empresa.\n",
    "O seu trabalho, como analista, é enviar um e-mail para ele, assim que começar a trabalhar, com o total gasto, a quantidade de produtos compradas e o preço médio dos produtos.\n",
    "\n",
    "E-mail do seu chefe: para o nosso exercício, coloque um e-mail seu como sendo o e-mail do seu chefe<br>\n",
    "Link de acesso ao sistema da empresa: https://pages.hashtagtreinamentos.com/aula1-intensivao-sistema\n",
    "\n",
    "Para resolver isso, vamos usar o pyautogui, uma biblioteca de automação de comandos do mouse e do teclado"
   ]
  },
  {
   "cell_type": "code",
   "execution_count": 4,
   "id": "987f7bee",
   "metadata": {},
   "outputs": [
    {
     "name": "stdout",
     "output_type": "stream",
     "text": [
      "Requirement already satisfied: pyautogui in c:\\users\\rebec\\anaconda3\\lib\\site-packages (0.9.53)\n",
      "Requirement already satisfied: pyscreeze>=0.1.21 in c:\\users\\rebec\\anaconda3\\lib\\site-packages (from pyautogui) (0.1.28)\n",
      "Requirement already satisfied: mouseinfo in c:\\users\\rebec\\anaconda3\\lib\\site-packages (from pyautogui) (0.1.3)\n",
      "Requirement already satisfied: pygetwindow>=0.0.5 in c:\\users\\rebec\\anaconda3\\lib\\site-packages (from pyautogui) (0.0.9)\n",
      "Requirement already satisfied: pymsgbox in c:\\users\\rebec\\anaconda3\\lib\\site-packages (from pyautogui) (1.0.9)\n",
      "Requirement already satisfied: PyTweening>=1.0.1 in c:\\users\\rebec\\anaconda3\\lib\\site-packages (from pyautogui) (1.0.4)\n",
      "Requirement already satisfied: pyrect in c:\\users\\rebec\\anaconda3\\lib\\site-packages (from pygetwindow>=0.0.5->pyautogui) (0.2.0)\n",
      "Requirement already satisfied: pyperclip in c:\\users\\rebec\\anaconda3\\lib\\site-packages (from mouseinfo->pyautogui) (1.8.2)\n"
     ]
    }
   ],
   "source": [
    "!pip install pyautogui"
   ]
  },
  {
   "cell_type": "code",
   "execution_count": 36,
   "id": "8a7d0cbe",
   "metadata": {},
   "outputs": [],
   "source": [
    "import pyautogui\n",
    "import time\n",
    "\n",
    "pyautogui.PAUSE = 1 #Faz uma pausa de 1 seg. entre a execução de cada comando\n",
    "\n",
    "# Passo 1 - Abrir o sistema da empresa\n",
    "pyautogui.hotkey(\"ctrl\",\"t\") #Abre uma nova aba no navegador\n",
    "\n",
    "time.sleep(2)\n",
    "\n",
    "pyautogui.write(\"https://pages.hashtagtreinamentos.com/aula1-intensivao-sistema\") #Digita o link do sistema da empresa\n",
    "pyautogui.press(\"enter\")\n",
    "\n",
    "time.sleep(5)\n",
    "\n",
    "# Passo 2 - Acesso ao sistema da empresa\n",
    "pyautogui.click(x=949, y=429) #Clica no campo de login \n",
    "pyautogui.write(\"meu_login\") #Digita o login\n",
    "pyautogui.click(x=937, y=524) #Clica no campo de senha\n",
    "pyautogui.write(\"minha_senha\") #Digita a senha\n",
    "pyautogui.click(x=933, y=614) #Clica em \"Acessar\"\n",
    "\n",
    "time.sleep(3)\n",
    "\n",
    "# Passo 3 - Exportar a base de dados\n",
    "pyautogui.click(x=485, y=427) #Clica no arquivo desejado\n",
    "pyautogui.click(x=1670, y=202) #Clica nos 3 pontinhos ou \"Mais ações\"\n",
    "pyautogui.click(x=1458, y=701) #Clica em \"Fazer download\"\n",
    "\n",
    "time.sleep(3)"
   ]
  },
  {
   "cell_type": "code",
   "execution_count": 64,
   "id": "35d505c8",
   "metadata": {},
   "outputs": [],
   "source": [
    "# Passo 4 - Calcular os indicadores\n",
    "\n",
    "import pandas\n",
    "\n",
    "tabela = pandas.read_csv(r\"C:\\Users\\rebec\\Downloads\\Compras.csv\" , sep=\";\") #Lê a base de dados (Compras.csv) e armazena na variavél \"tabela\"\n",
    "display(tabela)\n",
    "\n",
    "#total_gasto = tabela[\"ValorFinal\"].sum() #Calculo do total gasto\n",
    "#quantidade = tabela[\"Quantidade\"].sum() #Calculo da quantidade de produtos comprados\n",
    "#preco_medio = total_gasto / quantidade #Calculo do preço médio dos produtos\n",
    "#print(total_gasto)\n",
    "#print(quantidade)\n",
    "#print(preco_medio)\n",
    "\n",
    "#Os códigos acimas não estão funcioanando pois os dados das colunas que desejo somar contém vírgulas ao invés de pontos.\n",
    "#Por causa disso ele \"junta\" os valores um do lado do outro ao invés de somar como deveria.\n",
    "#Pesquisar como tratar os dados de uma tabela, substituindo as vírgulas por pontos."
   ]
  },
  {
   "cell_type": "code",
   "execution_count": 69,
   "id": "17c11701",
   "metadata": {},
   "outputs": [],
   "source": [
    "# Passo 5 - Enviar e-mail com o relatório para o chefe\n",
    "\n",
    "import pyperclip\n",
    "\n",
    "pyautogui.hotkey(\"ctrl\",\"t\") #Abre uma nova aba no navegador\n",
    "\n",
    "time.sleep(2)\n",
    "\n",
    "pyautogui.write(\"https://mail.google.com/mail/u/0/?hl=pt-BR#inbox\") #Abre o e-mail pelo qual será enviada a mensagem\n",
    "pyautogui.press(\"enter\")\n",
    "\n",
    "time.sleep(5)\n",
    "\n",
    "pyautogui.click(x=80, y=219) #Clica no campo de escrever um novo e-mail\n",
    "pyautogui.write(\"rebecca.melo99@hotmail.com\") #Digita o e-mail do destinatário\n",
    "pyautogui.press(\"tab\") #Seleciona o destinatário\n",
    "\n",
    "pyautogui.press(\"tab\") #Passa para o próximo campo a ser preenchido (Assunto)\n",
    "\n",
    "#Assunto\n",
    "pyperclip.copy(\"Relatório de Compras\") #O \"pyperclip.copy\" foi a solução usado para que os caracteres especiais, nesse caso o \"ó\", aparecessem no assunto\n",
    "pyautogui.hotkey(\"ctrl\",\"v\") #Cola o que foi escrito na linha acima exatamente como está\n",
    "\n",
    "pyautogui.press(\"tab\") #Passa para o próximo (Corpo do e-mail)\n",
    "\n",
    "#Variavél que contém a mensagem que aparecerá no corpo do e-mail\n",
    "texto = f\"\"\"\n",
    "Bom dia, chefe!\n",
    "\n",
    "Segue abaixo o relatório de compras:\n",
    "\n",
    "Total gasto: {total_gasto,.2f}\n",
    "Quantidade de produtos compradas: {quantidade,.2f}\n",
    "Preço médio dos produtos: {preco_medio,.2f}\n",
    "\n",
    "Att.,\n",
    "\n",
    "Rebecca Valois\n",
    "\"\"\"\n",
    "# f - Indica uma formatação, que são as variavés que estão entre chaves\n",
    "# ,.2f - quantidade de casas decimais depois da vírgula\n",
    "\n",
    "#IMPORTANTE! Não irá funcionar porque as variavés em questão não foram devidamente calculadas por um erro na tabela, explicação no \"Passo 4\"\n",
    "\n",
    "pyautogui.write(texto) #Mensagem do corpo do e-mail\n",
    "\n",
    "pyautogui.hotkey(\"ctrl\",\"enter\")"
   ]
  },
  {
   "cell_type": "code",
   "execution_count": 65,
   "id": "692b00cd",
   "metadata": {},
   "outputs": [
    {
     "data": {
      "text/plain": [
       "Point(x=80, y=219)"
      ]
     },
     "execution_count": 65,
     "metadata": {},
     "output_type": "execute_result"
    }
   ],
   "source": [
    "#Usado durante a construção do código para indicar a posição do ponteiro do mouse\n",
    "#Pode ser apagado após o uso para que não seja executado junto com o código\n",
    "import time\n",
    "time.sleep(5)\n",
    "pyautogui.position()"
   ]
  }
 ],
 "metadata": {
  "kernelspec": {
   "display_name": "Python 3 (ipykernel)",
   "language": "python",
   "name": "python3"
  },
  "language_info": {
   "codemirror_mode": {
    "name": "ipython",
    "version": 3
   },
   "file_extension": ".py",
   "mimetype": "text/x-python",
   "name": "python",
   "nbconvert_exporter": "python",
   "pygments_lexer": "ipython3",
   "version": "3.9.13"
  }
 },
 "nbformat": 4,
 "nbformat_minor": 5
}
